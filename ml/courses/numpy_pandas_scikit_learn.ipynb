{
  "nbformat": 4,
  "nbformat_minor": 0,
  "metadata": {
    "colab": {
      "provenance": [],
      "collapsed_sections": [
        "QOVgok5ESb40"
      ],
      "toc_visible": true,
      "authorship_tag": "ABX9TyP8PEZqfd/yXDVAdIget2Hj",
      "include_colab_link": true
    },
    "kernelspec": {
      "name": "python3",
      "display_name": "Python 3"
    },
    "language_info": {
      "name": "python"
    }
  },
  "cells": [
    {
      "cell_type": "markdown",
      "metadata": {
        "id": "view-in-github",
        "colab_type": "text"
      },
      "source": [
        "<a href=\"https://colab.research.google.com/github/Nitesh-Nandan/Collab-Notebooks/blob/main/ml/courses/numpy_pandas_scikit_learn.ipynb\" target=\"_parent\"><img src=\"https://colab.research.google.com/assets/colab-badge.svg\" alt=\"Open In Colab\"/></a>"
      ]
    },
    {
      "cell_type": "markdown",
      "source": [
        "#Overview\n",
        "It is a hands-on exercise for the course: https://www.educative.io/courses/machine-learning-numpy-pandas-scikit-learn/overview\n",
        "\n",
        "## Seven Steps the Machine Learning\n",
        "- Data Collection\n",
        "- Data Processing and Preparation\n",
        "- Feature Engineering\n",
        "- Model Selection\n",
        "- Model Training and Data Pipeline\n",
        "- Model Validation\n",
        "- Model Persistence\n",
        "\n",
        "\n"
      ],
      "metadata": {
        "id": "Apj-Mk10Jj9b"
      }
    },
    {
      "cell_type": "markdown",
      "source": [
        "# Data Manipulation with NumPy\n",
        "\n",
        "*The act of converting raw data into a meaningful form, is an essential skill to have.*"
      ],
      "metadata": {
        "id": "gKTrBgs6K9vj"
      }
    },
    {
      "cell_type": "markdown",
      "source": [
        "## NumPy Arrays"
      ],
      "metadata": {
        "id": "QOVgok5ESb40"
      }
    },
    {
      "cell_type": "code",
      "source": [
        "# NumPy arrays are basically just Python lists with added features\n",
        "\n",
        "import numpy as np\n",
        "\n",
        "arr = np.array([-1, 2, 3, 4, 5], dtype = np.float32)\n",
        "print(repr(arr))"
      ],
      "metadata": {
        "colab": {
          "base_uri": "https://localhost:8080/"
        },
        "id": "LEBtgEDVMRj-",
        "outputId": "dbbe1c2b-ff7e-492e-ab52-773b50e2fdfd"
      },
      "execution_count": 3,
      "outputs": [
        {
          "output_type": "stream",
          "name": "stdout",
          "text": [
            "array([-1.,  2.,  3.,  4.,  5.], dtype=float32)\n"
          ]
        }
      ]
    },
    {
      "cell_type": "code",
      "source": [
        "# When the elements of a NumPy array are mixed types, then the array's type will be upcast to the highest level type\n",
        "\n",
        "arr = np.array([0, 0.1, 2])\n",
        "print(arr.dtype)\n",
        "print(repr(arr))"
      ],
      "metadata": {
        "colab": {
          "base_uri": "https://localhost:8080/"
        },
        "id": "RC3Clml_ObOF",
        "outputId": "257d4b69-171e-4adb-9cf3-afe309c075ec"
      },
      "execution_count": 6,
      "outputs": [
        {
          "output_type": "stream",
          "name": "stdout",
          "text": [
            "float64\n",
            "array([0. , 0.1, 2. ])\n"
          ]
        }
      ]
    },
    {
      "cell_type": "code",
      "source": [
        "# Similar to Python lists, when we make a reference to a NumPy array it doesn't create a different array. Therefore, if we change a value using the reference variable, it changes the original array as well. We get around this by using an array's inherent copy function. The function has no required arguments, and it returns the copied array.\n",
        "\n",
        "a = np.array([0, 1])\n",
        "b = np.array([9, 8])\n",
        "c = a\n",
        "print('Array a: {}'.format(repr(a)))\n",
        "c[0] = 5\n",
        "print('Array a: {}'.format(repr(a)))\n",
        "\n",
        "d = b.copy()\n",
        "d[0] = 6\n",
        "print('Array b: {}'.format(repr(b)))"
      ],
      "metadata": {
        "colab": {
          "base_uri": "https://localhost:8080/"
        },
        "id": "OXONRp_xO5TJ",
        "outputId": "1baa28eb-1813-4f1a-c7e4-8ca7724070d9"
      },
      "execution_count": 5,
      "outputs": [
        {
          "output_type": "stream",
          "name": "stdout",
          "text": [
            "Array a: array([0, 1])\n",
            "Array a: array([5, 1])\n",
            "Array b: array([9, 8])\n"
          ]
        }
      ]
    },
    {
      "cell_type": "code",
      "source": [
        "# We cast NumPy arrays through their inherent astype function. The function's required argument is the new type for the array. It returns the array cast to the new type.\n",
        "\n",
        "arr = np.array([0, 1, 2])\n",
        "print(arr.dtype)\n",
        "print(repr(arr))\n",
        "\n",
        "arr = arr.astype(np.float32) # copies the data and cast\n",
        "print(arr.dtype)\n",
        "print(repr(arr))"
      ],
      "metadata": {
        "colab": {
          "base_uri": "https://localhost:8080/"
        },
        "id": "gHiZy5NMPA8I",
        "outputId": "81e5a908-4daf-49aa-a861-42b939585593"
      },
      "execution_count": 7,
      "outputs": [
        {
          "output_type": "stream",
          "name": "stdout",
          "text": [
            "int64\n",
            "array([0, 1, 2])\n",
            "float32\n",
            "array([0., 1., 2.], dtype=float32)\n"
          ]
        }
      ]
    },
    {
      "cell_type": "code",
      "source": [
        "# When we don't want a NumPy array to contain a value at a particular index, we can use np.nan to act as a placeholder. A common usage for np.nan is as a filler value for incomplete data.\n",
        "\n",
        "arr = np.array([np.nan, 1, 2])\n",
        "print(repr(arr))\n",
        "\n",
        "arr = np.array([np.nan, 'abc'])\n",
        "print(repr(arr))\n",
        "\n",
        "# Will result in a ValueError: If we uncomment line 8 and run again.\n",
        "# np.array([np.nan, 1, 2], dtype=np.int32)\n",
        "np.array([np.nan, 1, 2], dtype=np.float32)"
      ],
      "metadata": {
        "colab": {
          "base_uri": "https://localhost:8080/"
        },
        "id": "IK_0bT1ZPbGm",
        "outputId": "af74282d-89dc-4907-83a6-3bb21a76c5b6"
      },
      "execution_count": 9,
      "outputs": [
        {
          "output_type": "stream",
          "name": "stdout",
          "text": [
            "array([nan,  1.,  2.])\n",
            "array(['nan', 'abc'], dtype='<U32')\n"
          ]
        },
        {
          "output_type": "execute_result",
          "data": {
            "text/plain": [
              "array([nan,  1.,  2.], dtype=float32)"
            ]
          },
          "metadata": {},
          "execution_count": 9
        }
      ]
    },
    {
      "cell_type": "code",
      "source": [
        "# To represent infinity in NumPy, we use the np.inf special value. We can also represent negative infinity with -np.inf.\n",
        "\n",
        "print(np.inf > 1000000)\n",
        "\n",
        "arr = np.array([np.inf, 5])\n",
        "print(repr(arr))\n",
        "\n",
        "arr = np.array([-np.inf, 1])\n",
        "print(repr(arr))\n",
        "\n",
        "# Will result in a OverflowError: If we uncomment line 10 and run again.\n",
        "#np.array([np.inf, 3], dtype=np.int32)\n",
        "np.array([np.inf, 3], dtype=np.float32)"
      ],
      "metadata": {
        "colab": {
          "base_uri": "https://localhost:8080/"
        },
        "id": "LrWqqc6WP-go",
        "outputId": "bdf7f5c0-8983-4639-f4d7-c7bb5434b02d"
      },
      "execution_count": 10,
      "outputs": [
        {
          "output_type": "stream",
          "name": "stdout",
          "text": [
            "True\n",
            "array([inf,  5.])\n",
            "array([-inf,   1.])\n"
          ]
        },
        {
          "output_type": "execute_result",
          "data": {
            "text/plain": [
              "array([inf,  3.], dtype=float32)"
            ]
          },
          "metadata": {},
          "execution_count": 10
        }
      ]
    },
    {
      "cell_type": "markdown",
      "source": [
        "## NumPy Basics"
      ],
      "metadata": {
        "id": "leo7s6QRSR7d"
      }
    },
    {
      "cell_type": "code",
      "source": [
        "# Ranged Data\n",
        "\n",
        "arr = np.arange(5)\n",
        "print(repr(arr))\n",
        "\n",
        "arr = np.arange(0, 5.5, 0.5)\n",
        "print(repr(arr))\n",
        "\n",
        "arr = np.arange(-1, 4)\n",
        "print(repr(arr))\n",
        "\n",
        "arr = np.arange(-1.5, 4, 2)\n",
        "print(repr(arr))"
      ],
      "metadata": {
        "colab": {
          "base_uri": "https://localhost:8080/"
        },
        "id": "v8AojoacSgAS",
        "outputId": "b00e7893-4c95-4050-a8c0-e97cf2ab28bf"
      },
      "execution_count": 17,
      "outputs": [
        {
          "output_type": "stream",
          "name": "stdout",
          "text": [
            "array([0, 1, 2, 3, 4])\n",
            "array([0. , 0.5, 1. , 1.5, 2. , 2.5, 3. , 3.5, 4. , 4.5, 5. ])\n",
            "array([-1,  0,  1,  2,  3])\n",
            "array([-1.5,  0.5,  2.5])\n"
          ]
        }
      ]
    },
    {
      "cell_type": "code",
      "source": [
        "# Linspace\n",
        "\n",
        "'''\n",
        "default num is 50, and the default dtype is float\n",
        "'''\n",
        "\n",
        "arr = np.linspace(5, 11, dtype=np.int32)\n",
        "# print(repr(arr.shape))\n",
        "\n",
        "\n",
        "arr = np.linspace(5, 11, num=4, endpoint=False)\n",
        "print(repr(arr))\n",
        "\n",
        "arr = np.linspace(5, 11, num=10, dtype=np.int32)\n",
        "print(repr(arr))"
      ],
      "metadata": {
        "colab": {
          "base_uri": "https://localhost:8080/"
        },
        "id": "3R8-F-vVfgOV",
        "outputId": "ba64ccdd-28c1-4566-f810-085a0ede2955"
      },
      "execution_count": 22,
      "outputs": [
        {
          "output_type": "stream",
          "name": "stdout",
          "text": [
            "(50,)\n",
            "array([5. , 6.5, 8. , 9.5])\n",
            "array([ 5,  5,  6,  7,  7,  8,  9,  9, 10, 11], dtype=int32)\n"
          ]
        }
      ]
    },
    {
      "cell_type": "code",
      "source": [
        "# Reshaping the Data\n",
        "\n",
        "'''\n",
        "The function we use to reshape data in NumPy is np.reshape. It takes in an array and a new shape as required arguments. The new shape must exactly contain all the elements from the input array. For example, we could reshape an array with 12 elements to (4, 3), but we can't reshape it to (4, 4).\n",
        "\n",
        "We are allowed to use the special value of -1 in at most one dimension of the new shape. The dimension with -1 will take on the value necessary to allow the new shape to contain all the elements of the array.\n",
        "'''\n",
        "\n",
        "arr = np.arange(8)\n",
        "\n",
        "reshaped_arr = np.reshape(arr, (2, 4))\n",
        "print(repr(reshaped_arr))\n",
        "print('New shape: {}'.format(reshaped_arr.shape))\n",
        "\n",
        "reshaped_arr = np.reshape(arr, (-1, 2, 2))\n",
        "print(repr(reshaped_arr))\n",
        "print('New shape: {}'.format(reshaped_arr.shape))"
      ],
      "metadata": {
        "colab": {
          "base_uri": "https://localhost:8080/"
        },
        "id": "38hooieHhMIl",
        "outputId": "022aba1d-4d41-46db-8e64-39db61a2f56c"
      },
      "execution_count": 23,
      "outputs": [
        {
          "output_type": "stream",
          "name": "stdout",
          "text": [
            "array([[0, 1, 2, 3],\n",
            "       [4, 5, 6, 7]])\n",
            "New shape: (2, 4)\n",
            "array([[[0, 1],\n",
            "        [2, 3]],\n",
            "\n",
            "       [[4, 5],\n",
            "        [6, 7]]])\n",
            "New shape: (2, 2, 2)\n"
          ]
        }
      ]
    },
    {
      "cell_type": "code",
      "source": [
        "# Flatten\n",
        "\n",
        "arr = np.arange(8)\n",
        "arr = np.reshape(arr, (2, 4))\n",
        "flattened = arr.flatten()\n",
        "print(repr(arr))\n",
        "print('arr shape: {}'.format(arr.shape))\n",
        "print(repr(flattened))\n",
        "print('flattened shape: {}'.format(flattened.shape))"
      ],
      "metadata": {
        "colab": {
          "base_uri": "https://localhost:8080/"
        },
        "id": "viKRfGryvwOO",
        "outputId": "c041e465-1114-4eba-bd3b-1198abb9e9cb"
      },
      "execution_count": 25,
      "outputs": [
        {
          "output_type": "stream",
          "name": "stdout",
          "text": [
            "array([[0, 1, 2, 3],\n",
            "       [4, 5, 6, 7]])\n",
            "arr shape: (2, 4)\n",
            "array([0, 1, 2, 3, 4, 5, 6, 7])\n",
            "flattened shape: (8,)\n"
          ]
        }
      ]
    },
    {
      "cell_type": "markdown",
      "source": [
        "**Transpose**\n",
        "\n",
        "The transpose of a matrix is obtained by flipping the matrix over its diagonal. In other words, the row and column indices of each element are swapped.\n",
        "\n",
        "For a matrix $A$ with dimensions $m*n$:\n",
        "- The transpose, denotes as $A^T$, has dimension $n*m$\n",
        "- The element at postion $(i, j)$ in $A$ moves to position $(j,i)$ in $A^T$\n",
        "\n",
        "Example:\n",
        "\n",
        "$if \\space A = \\begin{bmatrix}\n",
        "1 & 2\\\\\n",
        "3 & 4\\\\\n",
        "5 & 6\n",
        "\\end{bmatrix}$\n",
        "\n",
        "<br/>\n",
        "\n",
        "$then \\space A^T = \\begin{bmatrix}\n",
        "1 & 3 & 5\\\\\n",
        "2 & 4 & 6\n",
        "\\end{bmatrix}$"
      ],
      "metadata": {
        "id": "EYYVaT_5rrUi"
      }
    },
    {
      "cell_type": "code",
      "source": [
        "# Transposing\n",
        "'''\n",
        "transpose of matrix is also applicable in 3D array\n",
        "'''\n",
        "\n",
        "arr = np.arange(8)\n",
        "arr = np.reshape(arr, (4, 2))\n",
        "transposed = np.transpose(arr)\n",
        "print(repr(arr))\n",
        "print('arr shape: {}'.format(arr.shape))\n",
        "print(repr(transposed))\n",
        "print('transposed shape: {}'.format(transposed.shape))"
      ],
      "metadata": {
        "colab": {
          "base_uri": "https://localhost:8080/"
        },
        "id": "cU0ysrYtmPZc",
        "outputId": "e49e9987-b4b3-4fc0-a357-ed6090be3d38"
      },
      "execution_count": 26,
      "outputs": [
        {
          "output_type": "stream",
          "name": "stdout",
          "text": [
            "array([[0, 1],\n",
            "       [2, 3],\n",
            "       [4, 5],\n",
            "       [6, 7]])\n",
            "arr shape: (4, 2)\n",
            "array([[0, 2, 4, 6],\n",
            "       [1, 3, 5, 7]])\n",
            "transposed shape: (2, 4)\n"
          ]
        }
      ]
    },
    {
      "cell_type": "markdown",
      "source": [
        "## NumPy Maths"
      ],
      "metadata": {
        "id": "yWODYAJgGPFE"
      }
    },
    {
      "cell_type": "markdown",
      "source": [],
      "metadata": {
        "id": "gAMmHWbJGUfO"
      }
    }
  ]
}