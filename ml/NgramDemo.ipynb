{
  "nbformat": 4,
  "nbformat_minor": 0,
  "metadata": {
    "colab": {
      "provenance": [],
      "authorship_tag": "ABX9TyMZeOcFkkb0VmYmWai6I3ag",
      "include_colab_link": true
    },
    "kernelspec": {
      "name": "python3",
      "display_name": "Python 3"
    },
    "language_info": {
      "name": "python"
    }
  },
  "cells": [
    {
      "cell_type": "markdown",
      "metadata": {
        "id": "view-in-github",
        "colab_type": "text"
      },
      "source": [
        "<a href=\"https://colab.research.google.com/github/Nitesh-Nandan/Collab-Notebooks/blob/main/ml/NgramDemo.ipynb\" target=\"_parent\"><img src=\"https://colab.research.google.com/assets/colab-badge.svg\" alt=\"Open In Colab\"/></a>"
      ]
    },
    {
      "cell_type": "code",
      "execution_count": 1,
      "metadata": {
        "colab": {
          "base_uri": "https://localhost:8080/"
        },
        "id": "Avr4CEmb5e16",
        "outputId": "fb62092a-58df-438d-e3e4-ec46ea9d85de"
      },
      "outputs": [
        {
          "output_type": "stream",
          "name": "stdout",
          "text": [
            "Requirement already satisfied: nltk in /usr/local/lib/python3.10/dist-packages (3.9.1)\n",
            "Requirement already satisfied: click in /usr/local/lib/python3.10/dist-packages (from nltk) (8.1.8)\n",
            "Requirement already satisfied: joblib in /usr/local/lib/python3.10/dist-packages (from nltk) (1.4.2)\n",
            "Requirement already satisfied: regex>=2021.8.3 in /usr/local/lib/python3.10/dist-packages (from nltk) (2024.11.6)\n",
            "Requirement already satisfied: tqdm in /usr/local/lib/python3.10/dist-packages (from nltk) (4.67.1)\n"
          ]
        }
      ],
      "source": [
        "!pip install nltk"
      ]
    },
    {
      "cell_type": "code",
      "source": [
        "paragraph = \"\"\"\n",
        "Narendra Damodardas Modi[a] (born 17 September 1950)[b] is an Indian politician who has been serving as the Prime Minister of India since 2014. Modi was the chief minister of Gujarat from 2001 to 2014 and is the member of parliament (MP) for Varanasi. He is a member of the Bharatiya Janata Party (BJP) and of the Rashtriya Swayamsevak Sangh (RSS), a right-wing Hindu nationalist paramilitary volunteer organisation. He is the longest-serving prime minister outside the Indian National Congress.[4]\n",
        "\n",
        "Modi was born and raised in Vadnagar in northeastern Gujarat, where he completed his secondary education. He was introduced to the RSS at the age of eight. At the age of 18, he was married to Jashodaben Modi, whom he abandoned soon after, only publicly acknowledging her four decades later when legally required to do so. Modi became a full-time worker for the RSS in Gujarat in 1971. The RSS assigned him to the BJP in 1985 and he rose through the party hierarchy, becoming general secretary in 1998.[c] In 2001, Modi was appointed Chief Minister of Gujarat and elected to the legislative assembly soon after. His administration is considered complicit in the 2002 Gujarat riots,[d] and has been criticised for its management of the crisis. According to official records, a little over 1,000 people were killed, three-quarters of whom were Muslim; independent sources estimated 2,000 deaths, mostly Muslim.[13] A Special Investigation Team appointed by the Supreme Court of India in 2012 found no evidence to initiate prosecution proceedings against him.[e] While his policies as chief minister were credited for encouraging economic growth, his administration was criticised for failing to significantly improve health, poverty and education indices in the state.[f]\n",
        "\"\"\"\n",
        "paragraph"
      ],
      "metadata": {
        "colab": {
          "base_uri": "https://localhost:8080/",
          "height": 357
        },
        "id": "dUl2vaO65ou8",
        "outputId": "3de8181f-9162-4315-f25e-49438c423638"
      },
      "execution_count": 7,
      "outputs": [
        {
          "output_type": "execute_result",
          "data": {
            "text/plain": [
              "'\\nNarendra Damodardas Modi[a] (born 17 September 1950)[b] is an Indian politician who has been serving as the Prime Minister of India since 2014. Modi was the chief minister of Gujarat from 2001 to 2014 and is the member of parliament (MP) for Varanasi. He is a member of the Bharatiya Janata Party (BJP) and of the Rashtriya Swayamsevak Sangh (RSS), a right-wing Hindu nationalist paramilitary volunteer organisation. He is the longest-serving prime minister outside the Indian National Congress.[4]\\n\\nModi was born and raised in Vadnagar in northeastern Gujarat, where he completed his secondary education. He was introduced to the RSS at the age of eight. At the age of 18, he was married to Jashodaben Modi, whom he abandoned soon after, only publicly acknowledging her four decades later when legally required to do so. Modi became a full-time worker for the RSS in Gujarat in 1971. The RSS assigned him to the BJP in 1985 and he rose through the party hierarchy, becoming general secretary in 1998.[c] In 2001, Modi was appointed Chief Minister of Gujarat and elected to the legislative assembly soon after. His administration is considered complicit in the 2002 Gujarat riots,[d] and has been criticised for its management of the crisis. According to official records, a little over 1,000 people were killed, three-quarters of whom were Muslim; independent sources estimated 2,000 deaths, mostly Muslim.[13] A Special Investigation Team appointed by the Supreme Court of India in 2012 found no evidence to initiate prosecution proceedings against him.[e] While his policies as chief minister were credited for encouraging economic growth, his administration was criticised for failing to significantly improve health, poverty and education indices in the state.[f]\\n'"
            ],
            "application/vnd.google.colaboratory.intrinsic+json": {
              "type": "string"
            }
          },
          "metadata": {},
          "execution_count": 7
        }
      ]
    },
    {
      "cell_type": "code",
      "source": [
        "import nltk\n",
        "from nltk.stem import PorterStemmer\n",
        "from nltk.corpus import stopwords"
      ],
      "metadata": {
        "id": "FmOCZVpQ5r4h"
      },
      "execution_count": 9,
      "outputs": []
    },
    {
      "cell_type": "code",
      "source": [
        "## Tokenization -- coverts paragrph-sentences -> words\n",
        "nltk.download('punkt_tab')\n",
        "sentences = nltk.sent_tokenize(paragraph)\n",
        "sentences"
      ],
      "metadata": {
        "colab": {
          "base_uri": "https://localhost:8080/"
        },
        "id": "AqCFoTOC66TB",
        "outputId": "d4f1e350-58a4-4e8e-bc23-fa07c750f663"
      },
      "execution_count": 12,
      "outputs": [
        {
          "output_type": "stream",
          "name": "stderr",
          "text": [
            "[nltk_data] Downloading package punkt_tab to /root/nltk_data...\n",
            "[nltk_data]   Unzipping tokenizers/punkt_tab.zip.\n"
          ]
        },
        {
          "output_type": "execute_result",
          "data": {
            "text/plain": [
              "['\\nNarendra Damodardas Modi[a] (born 17 September 1950)[b] is an Indian politician who has been serving as the Prime Minister of India since 2014.',\n",
              " 'Modi was the chief minister of Gujarat from 2001 to 2014 and is the member of parliament (MP) for Varanasi.',\n",
              " 'He is a member of the Bharatiya Janata Party (BJP) and of the Rashtriya Swayamsevak Sangh (RSS), a right-wing Hindu nationalist paramilitary volunteer organisation.',\n",
              " 'He is the longest-serving prime minister outside the Indian National Congress.',\n",
              " '[4]\\n\\nModi was born and raised in Vadnagar in northeastern Gujarat, where he completed his secondary education.',\n",
              " 'He was introduced to the RSS at the age of eight.',\n",
              " 'At the age of 18, he was married to Jashodaben Modi, whom he abandoned soon after, only publicly acknowledging her four decades later when legally required to do so.',\n",
              " 'Modi became a full-time worker for the RSS in Gujarat in 1971.',\n",
              " 'The RSS assigned him to the BJP in 1985 and he rose through the party hierarchy, becoming general secretary in 1998.',\n",
              " '[c] In 2001, Modi was appointed Chief Minister of Gujarat and elected to the legislative assembly soon after.',\n",
              " 'His administration is considered complicit in the 2002 Gujarat riots,[d] and has been criticised for its management of the crisis.',\n",
              " 'According to official records, a little over 1,000 people were killed, three-quarters of whom were Muslim; independent sources estimated 2,000 deaths, mostly Muslim.',\n",
              " '[13] A Special Investigation Team appointed by the Supreme Court of India in 2012 found no evidence to initiate prosecution proceedings against him.',\n",
              " '[e] While his policies as chief minister were credited for encouraging economic growth, his administration was criticised for failing to significantly improve health, poverty and education indices in the state.',\n",
              " '[f]']"
            ]
          },
          "metadata": {},
          "execution_count": 12
        }
      ]
    },
    {
      "cell_type": "code",
      "source": [
        "stemmer = PorterStemmer()\n",
        "stemmer.stem(\"History\")"
      ],
      "metadata": {
        "colab": {
          "base_uri": "https://localhost:8080/",
          "height": 35
        },
        "id": "M5QNONRq7vvt",
        "outputId": "86934145-b636-46e5-802f-b78b03973b55"
      },
      "execution_count": 14,
      "outputs": [
        {
          "output_type": "execute_result",
          "data": {
            "text/plain": [
              "'histori'"
            ],
            "application/vnd.google.colaboratory.intrinsic+json": {
              "type": "string"
            }
          },
          "metadata": {},
          "execution_count": 14
        }
      ]
    },
    {
      "cell_type": "code",
      "source": [
        "from nltk.stem import WordNetLemmatizer\n",
        "nltk.download('wordnet')\n",
        "nltk.download('stopwords')\n",
        "lemmatizer = WordNetLemmatizer()\n",
        "lemmatizer.lemmatize(\"History\")"
      ],
      "metadata": {
        "colab": {
          "base_uri": "https://localhost:8080/",
          "height": 107
        },
        "id": "jVvYBvT_-AMQ",
        "outputId": "f0e6c652-cc12-409b-a1f3-98b9ce7a4679"
      },
      "execution_count": 27,
      "outputs": [
        {
          "output_type": "stream",
          "name": "stderr",
          "text": [
            "[nltk_data] Downloading package wordnet to /root/nltk_data...\n",
            "[nltk_data]   Package wordnet is already up-to-date!\n",
            "[nltk_data] Downloading package stopwords to /root/nltk_data...\n",
            "[nltk_data]   Unzipping corpora/stopwords.zip.\n"
          ]
        },
        {
          "output_type": "execute_result",
          "data": {
            "text/plain": [
              "'History'"
            ],
            "application/vnd.google.colaboratory.intrinsic+json": {
              "type": "string"
            }
          },
          "metadata": {},
          "execution_count": 27
        }
      ]
    },
    {
      "cell_type": "code",
      "source": [
        "import re\n",
        "corpus = []\n",
        "for sentence in sentences:\n",
        "  review = re.sub(r'[^a-zA-Z]', ' ', sentence)\n",
        "  corpus.append(review.lower())\n",
        "\n",
        "corpus"
      ],
      "metadata": {
        "colab": {
          "base_uri": "https://localhost:8080/"
        },
        "id": "V0z4xiWzANfg",
        "outputId": "1aba7d71-2430-4abc-a62b-3b13ddfce147"
      },
      "execution_count": 24,
      "outputs": [
        {
          "output_type": "execute_result",
          "data": {
            "text/plain": [
              "[' narendra damodardas modi a   born    september       b  is an indian politician who has been serving as the prime minister of india since      ',\n",
              " 'modi was the chief minister of gujarat from      to      and is the member of parliament  mp  for varanasi ',\n",
              " 'he is a member of the bharatiya janata party  bjp  and of the rashtriya swayamsevak sangh  rss   a right wing hindu nationalist paramilitary volunteer organisation ',\n",
              " 'he is the longest serving prime minister outside the indian national congress ',\n",
              " '     modi was born and raised in vadnagar in northeastern gujarat  where he completed his secondary education ',\n",
              " 'he was introduced to the rss at the age of eight ',\n",
              " 'at the age of     he was married to jashodaben modi  whom he abandoned soon after  only publicly acknowledging her four decades later when legally required to do so ',\n",
              " 'modi became a full time worker for the rss in gujarat in      ',\n",
              " 'the rss assigned him to the bjp in      and he rose through the party hierarchy  becoming general secretary in      ',\n",
              " ' c  in       modi was appointed chief minister of gujarat and elected to the legislative assembly soon after ',\n",
              " 'his administration is considered complicit in the      gujarat riots  d  and has been criticised for its management of the crisis ',\n",
              " 'according to official records  a little over       people were killed  three quarters of whom were muslim  independent sources estimated       deaths  mostly muslim ',\n",
              " '     a special investigation team appointed by the supreme court of india in      found no evidence to initiate prosecution proceedings against him ',\n",
              " ' e  while his policies as chief minister were credited for encouraging economic growth  his administration was criticised for failing to significantly improve health  poverty and education indices in the state ',\n",
              " ' f ']"
            ]
          },
          "metadata": {},
          "execution_count": 24
        }
      ]
    },
    {
      "cell_type": "code",
      "source": [
        "for sentence in corpus:\n",
        "  words = nltk.word_tokenize(sentence)\n",
        "  for word in words:\n",
        "    if word not in set(stopwords.words('english')):\n",
        "      print(stemmer.stem(word))"
      ],
      "metadata": {
        "colab": {
          "base_uri": "https://localhost:8080/"
        },
        "id": "Ot0-uWUJKJvy",
        "outputId": "7f27cd9f-178e-4a73-d311-c535cd22cdb7"
      },
      "execution_count": 31,
      "outputs": [
        {
          "output_type": "stream",
          "name": "stdout",
          "text": [
            "narendra\n",
            "damodarda\n",
            "modi\n",
            "born\n",
            "septemb\n",
            "b\n",
            "indian\n",
            "politician\n",
            "serv\n",
            "prime\n",
            "minist\n",
            "india\n",
            "sinc\n",
            "modi\n",
            "chief\n",
            "minist\n",
            "gujarat\n",
            "member\n",
            "parliament\n",
            "mp\n",
            "varanasi\n",
            "member\n",
            "bharatiya\n",
            "janata\n",
            "parti\n",
            "bjp\n",
            "rashtriya\n",
            "swayamsevak\n",
            "sangh\n",
            "rss\n",
            "right\n",
            "wing\n",
            "hindu\n",
            "nationalist\n",
            "paramilitari\n",
            "volunt\n",
            "organis\n",
            "longest\n",
            "serv\n",
            "prime\n",
            "minist\n",
            "outsid\n",
            "indian\n",
            "nation\n",
            "congress\n",
            "modi\n",
            "born\n",
            "rais\n",
            "vadnagar\n",
            "northeastern\n",
            "gujarat\n",
            "complet\n",
            "secondari\n",
            "educ\n",
            "introduc\n",
            "rss\n",
            "age\n",
            "eight\n",
            "age\n",
            "marri\n",
            "jashodaben\n",
            "modi\n",
            "abandon\n",
            "soon\n",
            "publicli\n",
            "acknowledg\n",
            "four\n",
            "decad\n",
            "later\n",
            "legal\n",
            "requir\n",
            "modi\n",
            "becam\n",
            "full\n",
            "time\n",
            "worker\n",
            "rss\n",
            "gujarat\n",
            "rss\n",
            "assign\n",
            "bjp\n",
            "rose\n",
            "parti\n",
            "hierarchi\n",
            "becom\n",
            "gener\n",
            "secretari\n",
            "c\n",
            "modi\n",
            "appoint\n",
            "chief\n",
            "minist\n",
            "gujarat\n",
            "elect\n",
            "legisl\n",
            "assembl\n",
            "soon\n",
            "administr\n",
            "consid\n",
            "complicit\n",
            "gujarat\n",
            "riot\n",
            "criticis\n",
            "manag\n",
            "crisi\n",
            "accord\n",
            "offici\n",
            "record\n",
            "littl\n",
            "peopl\n",
            "kill\n",
            "three\n",
            "quarter\n",
            "muslim\n",
            "independ\n",
            "sourc\n",
            "estim\n",
            "death\n",
            "mostli\n",
            "muslim\n",
            "special\n",
            "investig\n",
            "team\n",
            "appoint\n",
            "suprem\n",
            "court\n",
            "india\n",
            "found\n",
            "evid\n",
            "initi\n",
            "prosecut\n",
            "proceed\n",
            "e\n",
            "polici\n",
            "chief\n",
            "minist\n",
            "credit\n",
            "encourag\n",
            "econom\n",
            "growth\n",
            "administr\n",
            "criticis\n",
            "fail\n",
            "significantli\n",
            "improv\n",
            "health\n",
            "poverti\n",
            "educ\n",
            "indic\n",
            "state\n",
            "f\n"
          ]
        }
      ]
    }
  ]
}